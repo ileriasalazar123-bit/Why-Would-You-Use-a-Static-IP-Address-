{
  "nbformat": 4,
  "nbformat_minor": 0,
  "metadata": {
    "colab": {
      "provenance": [],
      "authorship_tag": "ABX9TyMkqs6mc01BPv/7uGe6tPYJ"
    },
    "kernelspec": {
      "name": "python3",
      "display_name": "Python 3"
    },
    "language_info": {
      "name": "python"
    }
  },
  "cells": [
    {
      "cell_type": "code",
      "execution_count": null,
      "metadata": {
        "id": "CwgVJWe6r2Sz"
      },
      "outputs": [],
      "source": []
    },
    {
      "cell_type": "code",
      "source": [],
      "metadata": {
        "id": "1Lt2tebur6_s"
      },
      "execution_count": null,
      "outputs": []
    }
  ]
}